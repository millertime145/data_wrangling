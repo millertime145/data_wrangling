{
 "cells": [
  {
   "cell_type": "code",
   "execution_count": 1,
   "metadata": {
    "collapsed": true
   },
   "outputs": [],
   "source": [
    "import pandas as pd\n"
   ]
  },
  {
   "cell_type": "code",
   "execution_count": 2,
   "metadata": {},
   "outputs": [
    {
     "data": {
      "text/html": [
       "<div>\n",
       "<style>\n",
       "    .dataframe thead tr:only-child th {\n",
       "        text-align: right;\n",
       "    }\n",
       "\n",
       "    .dataframe thead th {\n",
       "        text-align: left;\n",
       "    }\n",
       "\n",
       "    .dataframe tbody tr th {\n",
       "        vertical-align: top;\n",
       "    }\n",
       "</style>\n",
       "<table border=\"1\" class=\"dataframe\">\n",
       "  <thead>\n",
       "    <tr style=\"text-align: right;\">\n",
       "      <th></th>\n",
       "      <th>President</th>\n",
       "      <th>Birth Date</th>\n",
       "      <th>Party</th>\n",
       "      <th>Term Start</th>\n",
       "      <th>Term End</th>\n",
       "      <th>Age</th>\n",
       "      <th>State</th>\n",
       "      <th>Sign</th>\n",
       "    </tr>\n",
       "  </thead>\n",
       "  <tbody>\n",
       "    <tr>\n",
       "      <th>0</th>\n",
       "      <td>George Washington</td>\n",
       "      <td>February 22, 1732</td>\n",
       "      <td>None</td>\n",
       "      <td>1789</td>\n",
       "      <td>1797</td>\n",
       "      <td>57</td>\n",
       "      <td>Virginia</td>\n",
       "      <td>Pisces</td>\n",
       "    </tr>\n",
       "    <tr>\n",
       "      <th>1</th>\n",
       "      <td>John Adams</td>\n",
       "      <td>October 30, 1735</td>\n",
       "      <td>Federalist</td>\n",
       "      <td>1797</td>\n",
       "      <td>1801</td>\n",
       "      <td>61</td>\n",
       "      <td>Massachusetts</td>\n",
       "      <td>Scorpio</td>\n",
       "    </tr>\n",
       "    <tr>\n",
       "      <th>2</th>\n",
       "      <td>Thomas Jefferson</td>\n",
       "      <td>April 13, 1743</td>\n",
       "      <td>Democratic-Republican</td>\n",
       "      <td>1801</td>\n",
       "      <td>1809</td>\n",
       "      <td>57</td>\n",
       "      <td>Virginia</td>\n",
       "      <td>Aries</td>\n",
       "    </tr>\n",
       "    <tr>\n",
       "      <th>3</th>\n",
       "      <td>James Madison</td>\n",
       "      <td>March 16, 1751</td>\n",
       "      <td>Democratic-Republican</td>\n",
       "      <td>1809</td>\n",
       "      <td>1817</td>\n",
       "      <td>57</td>\n",
       "      <td>Virginia</td>\n",
       "      <td>Pisces</td>\n",
       "    </tr>\n",
       "    <tr>\n",
       "      <th>4</th>\n",
       "      <td>James Monroe</td>\n",
       "      <td>April 28, 1758</td>\n",
       "      <td>Democratic-Republican</td>\n",
       "      <td>1817</td>\n",
       "      <td>1825</td>\n",
       "      <td>58</td>\n",
       "      <td>Virginia</td>\n",
       "      <td>Taurus</td>\n",
       "    </tr>\n",
       "  </tbody>\n",
       "</table>\n",
       "</div>"
      ],
      "text/plain": [
       "           President         Birth Date                  Party  Term Start  \\\n",
       "0  George Washington  February 22, 1732                   None        1789   \n",
       "1         John Adams   October 30, 1735             Federalist        1797   \n",
       "2   Thomas Jefferson     April 13, 1743  Democratic-Republican        1801   \n",
       "3      James Madison     March 16, 1751  Democratic-Republican        1809   \n",
       "4       James Monroe     April 28, 1758  Democratic-Republican        1817   \n",
       "\n",
       "   Term End  Age          State     Sign  \n",
       "0      1797   57       Virginia   Pisces  \n",
       "1      1801   61  Massachusetts  Scorpio  \n",
       "2      1809   57       Virginia    Aries  \n",
       "3      1817   57       Virginia   Pisces  \n",
       "4      1825   58       Virginia   Taurus  "
      ]
     },
     "execution_count": 2,
     "metadata": {},
     "output_type": "execute_result"
    }
   ],
   "source": [
    "pres = pd.read_csv(r\"C:\\Users\\jmill\\Documents\\Presidents data\\Presidents_final.csv\")\n",
    "pres.head() #this is the same as pres[:5]"
   ]
  },
  {
   "cell_type": "code",
   "execution_count": 15,
   "metadata": {},
   "outputs": [],
   "source": [
    "t=pres.dtypes"
   ]
  },
  {
   "cell_type": "code",
   "execution_count": 17,
   "metadata": {},
   "outputs": [
    {
     "data": {
      "text/plain": [
       "'object'"
      ]
     },
     "execution_count": 17,
     "metadata": {},
     "output_type": "execute_result"
    }
   ],
   "source": [
    "t['President'].name"
   ]
  },
  {
   "cell_type": "code",
   "execution_count": 20,
   "metadata": {},
   "outputs": [
    {
     "data": {
      "text/plain": [
       "['President',\n",
       " 'Birth Date',\n",
       " 'Party',\n",
       " 'Term Start',\n",
       " 'Term End',\n",
       " 'Age',\n",
       " 'State',\n",
       " 'Sign']"
      ]
     },
     "execution_count": 20,
     "metadata": {},
     "output_type": "execute_result"
    }
   ],
   "source": [
    "pres.columns.tolist()"
   ]
  },
  {
   "cell_type": "code",
   "execution_count": 22,
   "metadata": {},
   "outputs": [
    {
     "data": {
      "text/plain": [
       "'object'"
      ]
     },
     "execution_count": 22,
     "metadata": {},
     "output_type": "execute_result"
    }
   ],
   "source": [
    "pres['President'].dtypes.name"
   ]
  },
  {
   "cell_type": "code",
   "execution_count": 23,
   "metadata": {},
   "outputs": [
    {
     "data": {
      "text/plain": [
       "President     object\n",
       "Birth Date    object\n",
       "Party         object\n",
       "Term Start     int64\n",
       "Term End       int64\n",
       "Age            int64\n",
       "State         object\n",
       "Sign          object\n",
       "dtype: object"
      ]
     },
     "execution_count": 23,
     "metadata": {},
     "output_type": "execute_result"
    }
   ],
   "source": [
    "pres.dtypes"
   ]
  },
  {
   "cell_type": "code",
   "execution_count": 24,
   "metadata": {},
   "outputs": [
    {
     "ename": "AttributeError",
     "evalue": "'DataFrame' object has no attribute 'infer_objects'",
     "output_type": "error",
     "traceback": [
      "\u001b[1;31m---------------------------------------------------------------------------\u001b[0m",
      "\u001b[1;31mAttributeError\u001b[0m                            Traceback (most recent call last)",
      "\u001b[1;32m<ipython-input-24-08962788aa2f>\u001b[0m in \u001b[0;36m<module>\u001b[1;34m()\u001b[0m\n\u001b[1;32m----> 1\u001b[1;33m \u001b[0mpres\u001b[0m\u001b[1;33m.\u001b[0m\u001b[0minfer_objects\u001b[0m\u001b[1;33m(\u001b[0m\u001b[1;33m)\u001b[0m\u001b[1;33m\u001b[0m\u001b[0m\n\u001b[0m",
      "\u001b[1;32m~\\Anaconda3\\lib\\site-packages\\pandas\\core\\generic.py\u001b[0m in \u001b[0;36m__getattr__\u001b[1;34m(self, name)\u001b[0m\n\u001b[0;32m   3079\u001b[0m             \u001b[1;32mif\u001b[0m \u001b[0mname\u001b[0m \u001b[1;32min\u001b[0m \u001b[0mself\u001b[0m\u001b[1;33m.\u001b[0m\u001b[0m_info_axis\u001b[0m\u001b[1;33m:\u001b[0m\u001b[1;33m\u001b[0m\u001b[0m\n\u001b[0;32m   3080\u001b[0m                 \u001b[1;32mreturn\u001b[0m \u001b[0mself\u001b[0m\u001b[1;33m[\u001b[0m\u001b[0mname\u001b[0m\u001b[1;33m]\u001b[0m\u001b[1;33m\u001b[0m\u001b[0m\n\u001b[1;32m-> 3081\u001b[1;33m             \u001b[1;32mreturn\u001b[0m \u001b[0mobject\u001b[0m\u001b[1;33m.\u001b[0m\u001b[0m__getattribute__\u001b[0m\u001b[1;33m(\u001b[0m\u001b[0mself\u001b[0m\u001b[1;33m,\u001b[0m \u001b[0mname\u001b[0m\u001b[1;33m)\u001b[0m\u001b[1;33m\u001b[0m\u001b[0m\n\u001b[0m\u001b[0;32m   3082\u001b[0m \u001b[1;33m\u001b[0m\u001b[0m\n\u001b[0;32m   3083\u001b[0m     \u001b[1;32mdef\u001b[0m \u001b[0m__setattr__\u001b[0m\u001b[1;33m(\u001b[0m\u001b[0mself\u001b[0m\u001b[1;33m,\u001b[0m \u001b[0mname\u001b[0m\u001b[1;33m,\u001b[0m \u001b[0mvalue\u001b[0m\u001b[1;33m)\u001b[0m\u001b[1;33m:\u001b[0m\u001b[1;33m\u001b[0m\u001b[0m\n",
      "\u001b[1;31mAttributeError\u001b[0m: 'DataFrame' object has no attribute 'infer_objects'"
     ]
    }
   ],
   "source": [
    "pres.infer_objects()"
   ]
  },
  {
   "cell_type": "code",
   "execution_count": 7,
   "metadata": {},
   "outputs": [
    {
     "data": {
      "text/plain": [
       "Republican               18\n",
       "Democratic               13\n",
       "Democratic-Republican     4\n",
       "Whig                      4\n",
       "Democrat                  2\n",
       "None                      1\n",
       "Federalist                1\n",
       "National Union            1\n",
       "Name: Party, dtype: int64"
      ]
     },
     "execution_count": 7,
     "metadata": {},
     "output_type": "execute_result"
    }
   ],
   "source": [
    "party_count = pres['Party'].value_counts()\n",
    "party_count"
   ]
  },
  {
   "cell_type": "code",
   "execution_count": 8,
   "metadata": {},
   "outputs": [
    {
     "data": {
      "text/html": [
       "<div>\n",
       "<style>\n",
       "    .dataframe thead tr:only-child th {\n",
       "        text-align: right;\n",
       "    }\n",
       "\n",
       "    .dataframe thead th {\n",
       "        text-align: left;\n",
       "    }\n",
       "\n",
       "    .dataframe tbody tr th {\n",
       "        vertical-align: top;\n",
       "    }\n",
       "</style>\n",
       "<table border=\"1\" class=\"dataframe\">\n",
       "  <thead>\n",
       "    <tr style=\"text-align: right;\">\n",
       "      <th></th>\n",
       "      <th>President</th>\n",
       "      <th>Birth Date</th>\n",
       "      <th>Party</th>\n",
       "      <th>Term Start</th>\n",
       "      <th>Term End</th>\n",
       "      <th>Age</th>\n",
       "      <th>State</th>\n",
       "      <th>Sign</th>\n",
       "    </tr>\n",
       "  </thead>\n",
       "  <tbody>\n",
       "    <tr>\n",
       "      <th>7</th>\n",
       "      <td>Martin Van Buren</td>\n",
       "      <td>December 5, 1782</td>\n",
       "      <td>Democrat</td>\n",
       "      <td>1837</td>\n",
       "      <td>1841</td>\n",
       "      <td>54</td>\n",
       "      <td>New York</td>\n",
       "      <td>Sagittarious</td>\n",
       "    </tr>\n",
       "    <tr>\n",
       "      <th>43</th>\n",
       "      <td>Barack Obama</td>\n",
       "      <td>August 4, 1961</td>\n",
       "      <td>Democrat</td>\n",
       "      <td>2009</td>\n",
       "      <td>2017</td>\n",
       "      <td>47</td>\n",
       "      <td>Hawaii</td>\n",
       "      <td>Leo</td>\n",
       "    </tr>\n",
       "  </tbody>\n",
       "</table>\n",
       "</div>"
      ],
      "text/plain": [
       "           President        Birth Date     Party  Term Start  Term End  Age  \\\n",
       "7   Martin Van Buren  December 5, 1782  Democrat        1837      1841   54   \n",
       "43      Barack Obama    August 4, 1961  Democrat        2009      2017   47   \n",
       "\n",
       "       State          Sign  \n",
       "7   New York  Sagittarious  \n",
       "43    Hawaii           Leo  "
      ]
     },
     "execution_count": 8,
     "metadata": {},
     "output_type": "execute_result"
    }
   ],
   "source": [
    "pres.loc[pres['Party'] == 'Democrat']"
   ]
  },
  {
   "cell_type": "code",
   "execution_count": 10,
   "metadata": {},
   "outputs": [
    {
     "data": {
      "text/plain": [
       "Republican               18\n",
       "Democratic               15\n",
       "Democratic-Republican     4\n",
       "Whig                      4\n",
       "None                      1\n",
       "Federalist                1\n",
       "National Union            1\n",
       "Name: Party, dtype: int64"
      ]
     },
     "execution_count": 10,
     "metadata": {},
     "output_type": "execute_result"
    }
   ],
   "source": [
    "pres['Party'].replace(\"Democrat\", \"Democratic\", True)\n",
    "party_count = pres['Party'].value_counts()\n",
    "party_count"
   ]
  },
  {
   "cell_type": "code",
   "execution_count": 21,
   "metadata": {},
   "outputs": [
    {
     "data": {
      "text/plain": [
       "President             object\n",
       "Birth Date    datetime64[ns]\n",
       "Party                 object\n",
       "Term Start             int64\n",
       "Term End               int64\n",
       "Age                    int64\n",
       "State                 object\n",
       "Sign                  object\n",
       "dtype: object"
      ]
     },
     "execution_count": 21,
     "metadata": {},
     "output_type": "execute_result"
    }
   ],
   "source": [
    "pres['Birth Date'] = pd.to_datetime(pres['Birth Date'],format='%B %d, %Y')\n",
    "pres.dtypes"
   ]
  },
  {
   "cell_type": "code",
   "execution_count": 22,
   "metadata": {},
   "outputs": [
    {
     "data": {
      "text/html": [
       "<div>\n",
       "<style>\n",
       "    .dataframe thead tr:only-child th {\n",
       "        text-align: right;\n",
       "    }\n",
       "\n",
       "    .dataframe thead th {\n",
       "        text-align: left;\n",
       "    }\n",
       "\n",
       "    .dataframe tbody tr th {\n",
       "        vertical-align: top;\n",
       "    }\n",
       "</style>\n",
       "<table border=\"1\" class=\"dataframe\">\n",
       "  <thead>\n",
       "    <tr style=\"text-align: right;\">\n",
       "      <th></th>\n",
       "      <th>President</th>\n",
       "      <th>Birth Date</th>\n",
       "      <th>Party</th>\n",
       "      <th>Term Start</th>\n",
       "      <th>Term End</th>\n",
       "      <th>Age</th>\n",
       "      <th>State</th>\n",
       "      <th>Sign</th>\n",
       "    </tr>\n",
       "  </thead>\n",
       "  <tbody>\n",
       "    <tr>\n",
       "      <th>0</th>\n",
       "      <td>George Washington</td>\n",
       "      <td>1732-02-22</td>\n",
       "      <td>None</td>\n",
       "      <td>1789</td>\n",
       "      <td>1797</td>\n",
       "      <td>57</td>\n",
       "      <td>Virginia</td>\n",
       "      <td>Pisces</td>\n",
       "    </tr>\n",
       "    <tr>\n",
       "      <th>1</th>\n",
       "      <td>John Adams</td>\n",
       "      <td>1735-10-30</td>\n",
       "      <td>Federalist</td>\n",
       "      <td>1797</td>\n",
       "      <td>1801</td>\n",
       "      <td>61</td>\n",
       "      <td>Massachusetts</td>\n",
       "      <td>Scorpio</td>\n",
       "    </tr>\n",
       "    <tr>\n",
       "      <th>2</th>\n",
       "      <td>Thomas Jefferson</td>\n",
       "      <td>1743-04-13</td>\n",
       "      <td>Democratic-Republican</td>\n",
       "      <td>1801</td>\n",
       "      <td>1809</td>\n",
       "      <td>57</td>\n",
       "      <td>Virginia</td>\n",
       "      <td>Aries</td>\n",
       "    </tr>\n",
       "    <tr>\n",
       "      <th>3</th>\n",
       "      <td>James Madison</td>\n",
       "      <td>1751-03-16</td>\n",
       "      <td>Democratic-Republican</td>\n",
       "      <td>1809</td>\n",
       "      <td>1817</td>\n",
       "      <td>57</td>\n",
       "      <td>Virginia</td>\n",
       "      <td>Pisces</td>\n",
       "    </tr>\n",
       "    <tr>\n",
       "      <th>4</th>\n",
       "      <td>James Monroe</td>\n",
       "      <td>1758-04-28</td>\n",
       "      <td>Democratic-Republican</td>\n",
       "      <td>1817</td>\n",
       "      <td>1825</td>\n",
       "      <td>58</td>\n",
       "      <td>Virginia</td>\n",
       "      <td>Taurus</td>\n",
       "    </tr>\n",
       "  </tbody>\n",
       "</table>\n",
       "</div>"
      ],
      "text/plain": [
       "           President Birth Date                  Party  Term Start  Term End  \\\n",
       "0  George Washington 1732-02-22                   None        1789      1797   \n",
       "1         John Adams 1735-10-30             Federalist        1797      1801   \n",
       "2   Thomas Jefferson 1743-04-13  Democratic-Republican        1801      1809   \n",
       "3      James Madison 1751-03-16  Democratic-Republican        1809      1817   \n",
       "4       James Monroe 1758-04-28  Democratic-Republican        1817      1825   \n",
       "\n",
       "   Age          State     Sign  \n",
       "0   57       Virginia   Pisces  \n",
       "1   61  Massachusetts  Scorpio  \n",
       "2   57       Virginia    Aries  \n",
       "3   57       Virginia   Pisces  \n",
       "4   58       Virginia   Taurus  "
      ]
     },
     "execution_count": 22,
     "metadata": {},
     "output_type": "execute_result"
    }
   ],
   "source": [
    "pres.head()"
   ]
  },
  {
   "cell_type": "code",
   "execution_count": null,
   "metadata": {
    "collapsed": true
   },
   "outputs": [],
   "source": []
  }
 ],
 "metadata": {
  "kernelspec": {
   "display_name": "Python 3",
   "language": "python",
   "name": "python3"
  },
  "language_info": {
   "codemirror_mode": {
    "name": "ipython",
    "version": 3
   },
   "file_extension": ".py",
   "mimetype": "text/x-python",
   "name": "python",
   "nbconvert_exporter": "python",
   "pygments_lexer": "ipython3",
   "version": "3.6.3"
  }
 },
 "nbformat": 4,
 "nbformat_minor": 2
}
