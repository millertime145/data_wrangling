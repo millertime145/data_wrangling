{
 "cells": [
  {
   "cell_type": "code",
   "execution_count": null,
   "metadata": {
    "collapsed": true
   },
   "outputs": [],
   "source": [
    "import pandas as pd"
   ]
  },
  {
   "cell_type": "code",
   "execution_count": null,
   "metadata": {
    "collapsed": true
   },
   "outputs": [],
   "source": [
    "def get_csv_pandas(fname):\n",
    "    '''fname as file path'''\n",
    "    df = pd.read_csv(fname)\n",
    "    return df"
   ]
  },
  {
   "cell_type": "code",
   "execution_count": null,
   "metadata": {
    "collapsed": true
   },
   "outputs": [],
   "source": [
    "def get_datatypes(df):\n",
    "    '''df as dataframe'''\n",
    "    dts = []\n",
    "    for i in df.columns.tolist():\n",
    "        dts.append([i,df[i].dtypes.name])\n",
    "    return dts"
   ]
  },
  {
   "cell_type": "code",
   "execution_count": null,
   "metadata": {
    "collapsed": true
   },
   "outputs": [],
   "source": [
    "def convert_numeric_datatype(df, convert_dict):\n",
    "    '''\n",
    "    def as dataframe\n",
    "    convert_dict as dictionary with column name as key and item as python\n",
    "        data type, numpy datatype (np.int64), or \n",
    "        numpy datatype as string ('int64')\n",
    "    columns as array of columns\n",
    "    datatype as python (ex:int, float)\n",
    "    strings will automatically be type object'''\n",
    "    return df.astype(convert_dict, errors='coerce')"
   ]
  }
 ],
 "metadata": {
  "kernelspec": {
   "display_name": "Python 3",
   "language": "python",
   "name": "python3"
  },
  "language_info": {
   "codemirror_mode": {
    "name": "ipython",
    "version": 3
   },
   "file_extension": ".py",
   "mimetype": "text/x-python",
   "name": "python",
   "nbconvert_exporter": "python",
   "pygments_lexer": "ipython3",
   "version": "3.6.3"
  }
 },
 "nbformat": 4,
 "nbformat_minor": 2
}
